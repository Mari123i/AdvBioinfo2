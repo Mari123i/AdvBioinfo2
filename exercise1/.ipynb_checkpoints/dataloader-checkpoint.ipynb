{
 "cells": [
  {
   "cell_type": "code",
   "execution_count": 1,
   "metadata": {
    "collapsed": true,
    "pycharm": {
     "name": "#%%\n"
    }
   },
   "outputs": [],
   "source": [
    "import h5py\n",
    "import torch\n",
    "import random\n",
    "from pathlib import Path\n",
    "from typing import List\n",
    "from torch.utils.data import DataLoader, Dataset"
   ]
  },
  {
   "cell_type": "code",
   "execution_count": 2,
   "metadata": {
    "pycharm": {
     "name": "#%%\n"
    }
   },
   "outputs": [],
   "source": [
    "# Generate some random data\n",
    "random_tensors = {f'{i}': torch.rand((random.randint(10, 30), 10)) for i in range(20)}\n",
    "\n",
    "# Save those data to some preferred file format\n",
    "with h5py.File('random.h5', 'w') as hf:\n",
    "    for idx, random_ten in random_tensors.items():\n",
    "            hf.create_dataset(idx, data=random_ten.detach().numpy())"
   ]
  },
  {
   "cell_type": "code",
   "execution_count": 3,
   "metadata": {
    "pycharm": {
     "name": "#%%\n"
    }
   },
   "outputs": [
    {
     "name": "stdout",
     "output_type": "stream",
     "text": [
      "root:NXroot\n",
      "  0 = float32(12x10)\n",
      "  1 = float32(17x10)\n",
      "  2 = float32(21x10)\n",
      "  3 = float32(27x10)\n",
      "  4 = float32(11x10)\n",
      "  5 = float32(10x10)\n",
      "  6 = float32(17x10)\n",
      "  7 = float32(30x10)\n",
      "  8 = float32(22x10)\n",
      "  9 = float32(30x10)\n",
      "  10 = float32(10x10)\n",
      "  11 = float32(25x10)\n",
      "  12 = float32(11x10)\n",
      "  13 = float32(28x10)\n",
      "  14 = float32(27x10)\n",
      "  15 = float32(10x10)\n",
      "  16 = float32(27x10)\n",
      "  17 = float32(27x10)\n",
      "  18 = float32(22x10)\n",
      "  19 = float32(18x10)\n"
     ]
    }
   ],
   "source": [
    "# Showing content of an h5 file\n",
    "import nexusformat.nexus as nx\n",
    "\n",
    "f = nx.nxload('random.h5')\n",
    "print(f.tree)\n",
    "f.close()\n",
    "# random.h5 contains tensors of shape Nx10 where N is variable"
   ]
  },
  {
   "cell_type": "code",
   "execution_count": 4,
   "metadata": {
    "pycharm": {
     "name": "#%%\n"
    }
   },
   "outputs": [],
   "source": [
    "# Define a dataset tailored to the data that should be used\n",
    "class FancyDataset(Dataset):\n",
    "    # Dataset ... map-style dataset\n",
    "    def __init__(self, h5_path: Path):\n",
    "        self.data = h5py.File(h5_path, 'r')\n",
    "        # use as \"index map\"\n",
    "        self.ids_list = list(self.data.keys())\n",
    "\n",
    "        # some additional stuff\n",
    "        self.softmax = torch.nn.Softmax(dim=-1)\n",
    "\n",
    "    # return the number of elements in the dataset\n",
    "    def __len__(self):\n",
    "        return len(self.ids_list)\n",
    "\n",
    "    # return item at specific index\n",
    "    def __getitem__(self, idx: int):\n",
    "        identifier = self.ids_list[idx]\n",
    "        idx_element = torch.from_numpy(self.data[identifier][:, :])\n",
    "        return self.fancy_func(idx_element)\n",
    "\n",
    "    # some function that does something\n",
    "    def fancy_func(self, input: torch.Tensor):\n",
    "        return self.softmax(input).mean(dim=0)\n",
    "\n",
    "# Other types:\n",
    "#   IterableDataset, TensorDataset, ConcatDataset, ..."
   ]
  },
  {
   "cell_type": "code",
   "execution_count": 5,
   "metadata": {
    "pycharm": {
     "name": "#%%\n"
    }
   },
   "outputs": [
    {
     "data": {
      "text/plain": [
       "<__main__.FancyDataset at 0x7f934b90fd30>"
      ]
     },
     "execution_count": 5,
     "metadata": {},
     "output_type": "execute_result"
    }
   ],
   "source": [
    "# Wrap FancyDataset around the data\n",
    "fancy = FancyDataset(Path('random.h5'))\n",
    "fancy"
   ]
  },
  {
   "cell_type": "code",
   "execution_count": 6,
   "metadata": {
    "pycharm": {
     "name": "#%%\n"
    }
   },
   "outputs": [],
   "source": [
    "# Defines some collate function that is useful\n",
    "def collate(data: List[torch.Tensor]):\n",
    "    return torch.stack(data, dim=0)\n",
    "\n",
    "# In this case, the default_collate function is also able to do this"
   ]
  },
  {
   "cell_type": "code",
   "execution_count": 7,
   "metadata": {
    "pycharm": {
     "name": "#%%\n"
    }
   },
   "outputs": [
    {
     "data": {
      "text/plain": [
       "<torch.utils.data.dataloader.DataLoader at 0x7f934b6c6760>"
      ]
     },
     "execution_count": 7,
     "metadata": {},
     "output_type": "execute_result"
    }
   ],
   "source": [
    "# Create dataloader\n",
    "torch.manual_seed(42)\n",
    "dataloader = DataLoader(fancy, batch_size=5, shuffle=True, collate_fn=collate)\n",
    "# dataloader = DataLoader(fancy, batch_size=5, shuffle=True)\n",
    "\n",
    "# DataLoader with default Sampler = index sampler with integral indices\n",
    "# Custom Samplers = possible to use non-integral indices/keys\n",
    "dataloader"
   ]
  },
  {
   "cell_type": "code",
   "execution_count": 8,
   "metadata": {
    "pycharm": {
     "name": "#%%\n"
    }
   },
   "outputs": [
    {
     "data": {
      "text/plain": [
       "[tensor([[0.0932, 0.1033, 0.1071, 0.0990, 0.1023, 0.0992, 0.0981, 0.1008, 0.0999,\n",
       "          0.0971],\n",
       "         [0.0829, 0.0938, 0.1125, 0.0990, 0.1056, 0.1138, 0.1011, 0.1069, 0.1020,\n",
       "          0.0826],\n",
       "         [0.0908, 0.0974, 0.0997, 0.0955, 0.0976, 0.0993, 0.0925, 0.1101, 0.1112,\n",
       "          0.1059],\n",
       "         [0.0987, 0.1015, 0.0978, 0.1036, 0.0992, 0.1046, 0.0967, 0.0951, 0.1007,\n",
       "          0.1022],\n",
       "         [0.0972, 0.1101, 0.0926, 0.0970, 0.1006, 0.1001, 0.0986, 0.0950, 0.0971,\n",
       "          0.1119]]),\n",
       " tensor([[0.0999, 0.0923, 0.0871, 0.1128, 0.1139, 0.0957, 0.1002, 0.1093, 0.0803,\n",
       "          0.1085],\n",
       "         [0.1015, 0.0959, 0.0941, 0.0987, 0.1070, 0.1058, 0.1002, 0.0978, 0.1004,\n",
       "          0.0987],\n",
       "         [0.0960, 0.0978, 0.0994, 0.1063, 0.1015, 0.0920, 0.0971, 0.0933, 0.1075,\n",
       "          0.1091],\n",
       "         [0.1015, 0.0963, 0.0941, 0.0924, 0.0978, 0.1026, 0.1058, 0.1055, 0.1005,\n",
       "          0.1034],\n",
       "         [0.1057, 0.0996, 0.0968, 0.1034, 0.0953, 0.0988, 0.1087, 0.0864, 0.0902,\n",
       "          0.1152]]),\n",
       " tensor([[0.0923, 0.0911, 0.1073, 0.1062, 0.1097, 0.0972, 0.1100, 0.0887, 0.0992,\n",
       "          0.0984],\n",
       "         [0.1083, 0.1057, 0.0959, 0.0764, 0.1047, 0.1076, 0.0966, 0.1002, 0.1110,\n",
       "          0.0935],\n",
       "         [0.1138, 0.0991, 0.0998, 0.1036, 0.1066, 0.0906, 0.1023, 0.0975, 0.0933,\n",
       "          0.0935],\n",
       "         [0.1099, 0.0861, 0.0907, 0.1114, 0.0952, 0.0940, 0.1058, 0.1001, 0.0962,\n",
       "          0.1106],\n",
       "         [0.0981, 0.1043, 0.0926, 0.1078, 0.0924, 0.1006, 0.1014, 0.1041, 0.1004,\n",
       "          0.0981]]),\n",
       " tensor([[0.0992, 0.1075, 0.0918, 0.1055, 0.1089, 0.0983, 0.0996, 0.0924, 0.0999,\n",
       "          0.0968],\n",
       "         [0.0919, 0.0944, 0.1109, 0.0990, 0.0953, 0.0957, 0.1027, 0.1043, 0.0985,\n",
       "          0.1074],\n",
       "         [0.0902, 0.1029, 0.1073, 0.0986, 0.1128, 0.0959, 0.0966, 0.0987, 0.1032,\n",
       "          0.0937],\n",
       "         [0.0940, 0.0860, 0.1088, 0.1076, 0.1035, 0.1128, 0.0983, 0.0857, 0.0969,\n",
       "          0.1065],\n",
       "         [0.1008, 0.0963, 0.0950, 0.1058, 0.0952, 0.0976, 0.1046, 0.0938, 0.1038,\n",
       "          0.1069]])]"
      ]
     },
     "execution_count": 8,
     "metadata": {},
     "output_type": "execute_result"
    }
   ],
   "source": [
    "# Use actual dataloader\n",
    "data = [sample for sample in dataloader]\n",
    "data"
   ]
  },
  {
   "cell_type": "code",
   "execution_count": 9,
   "metadata": {
    "pycharm": {
     "name": "#%%\n"
    }
   },
   "outputs": [
    {
     "data": {
      "text/plain": [
       "[tensor([[0.0932, 0.1033, 0.1071, 0.0990, 0.1023, 0.0992, 0.0981, 0.1008, 0.0999,\n",
       "          0.0971],\n",
       "         [0.0829, 0.0938, 0.1125, 0.0990, 0.1056, 0.1138, 0.1011, 0.1069, 0.1020,\n",
       "          0.0826],\n",
       "         [0.0908, 0.0974, 0.0997, 0.0955, 0.0976, 0.0993, 0.0925, 0.1101, 0.1112,\n",
       "          0.1059],\n",
       "         [0.0987, 0.1015, 0.0978, 0.1036, 0.0992, 0.1046, 0.0967, 0.0951, 0.1007,\n",
       "          0.1022],\n",
       "         [0.0972, 0.1101, 0.0926, 0.0970, 0.1006, 0.1001, 0.0986, 0.0950, 0.0971,\n",
       "          0.1119]]),\n",
       " tensor([[0.0999, 0.0923, 0.0871, 0.1128, 0.1139, 0.0957, 0.1002, 0.1093, 0.0803,\n",
       "          0.1085],\n",
       "         [0.1015, 0.0959, 0.0941, 0.0987, 0.1070, 0.1058, 0.1002, 0.0978, 0.1004,\n",
       "          0.0987],\n",
       "         [0.0960, 0.0978, 0.0994, 0.1063, 0.1015, 0.0920, 0.0971, 0.0933, 0.1075,\n",
       "          0.1091],\n",
       "         [0.1015, 0.0963, 0.0941, 0.0924, 0.0978, 0.1026, 0.1058, 0.1055, 0.1005,\n",
       "          0.1034],\n",
       "         [0.1057, 0.0996, 0.0968, 0.1034, 0.0953, 0.0988, 0.1087, 0.0864, 0.0902,\n",
       "          0.1152]]),\n",
       " tensor([[0.0923, 0.0911, 0.1073, 0.1062, 0.1097, 0.0972, 0.1100, 0.0887, 0.0992,\n",
       "          0.0984],\n",
       "         [0.1083, 0.1057, 0.0959, 0.0764, 0.1047, 0.1076, 0.0966, 0.1002, 0.1110,\n",
       "          0.0935],\n",
       "         [0.1138, 0.0991, 0.0998, 0.1036, 0.1066, 0.0906, 0.1023, 0.0975, 0.0933,\n",
       "          0.0935],\n",
       "         [0.1099, 0.0861, 0.0907, 0.1114, 0.0952, 0.0940, 0.1058, 0.1001, 0.0962,\n",
       "          0.1106],\n",
       "         [0.0981, 0.1043, 0.0926, 0.1078, 0.0924, 0.1006, 0.1014, 0.1041, 0.1004,\n",
       "          0.0981]]),\n",
       " tensor([[0.0992, 0.1075, 0.0918, 0.1055, 0.1089, 0.0983, 0.0996, 0.0924, 0.0999,\n",
       "          0.0968],\n",
       "         [0.0919, 0.0944, 0.1109, 0.0990, 0.0953, 0.0957, 0.1027, 0.1043, 0.0985,\n",
       "          0.1074],\n",
       "         [0.0902, 0.1029, 0.1073, 0.0986, 0.1128, 0.0959, 0.0966, 0.0987, 0.1032,\n",
       "          0.0937],\n",
       "         [0.0940, 0.0860, 0.1088, 0.1076, 0.1035, 0.1128, 0.0983, 0.0857, 0.0969,\n",
       "          0.1065],\n",
       "         [0.1008, 0.0963, 0.0950, 0.1058, 0.0952, 0.0976, 0.1046, 0.0938, 0.1038,\n",
       "          0.1069]])]"
      ]
     },
     "execution_count": 9,
     "metadata": {},
     "output_type": "execute_result"
    }
   ],
   "source": [
    "# Recreate output of actual dataloader with manual use of collate and batch forming\n",
    "# does only apply for the first full iteration of the dataloader data\n",
    "indices = [[8, 14, 17, 19, 1], [15, 18, 9, 3, 11], [4, 0, 10, 7, 13], [16, 12, 6, 2, 5]]\n",
    "\n",
    "# Helper functions\n",
    "# get items of one batch from dataset Fancy\n",
    "batch_fancy = lambda batch: list(map(lambda x: fancy[x], batch))\n",
    "# get items of multiple batches from dataset Fancy\n",
    "fancy_indices = lambda ind: list(map(lambda single_batch: batch_fancy(single_batch), ind))\n",
    "# use collate function on multiple batches\n",
    "collate_fancy = lambda fan_list: list(map(lambda fancy_batches: collate(fancy_batches), fan_list))\n",
    "\n",
    "handcraft = collate_fancy(fancy_indices(indices))\n",
    "handcraft"
   ]
  },
  {
   "cell_type": "code",
   "execution_count": 10,
   "metadata": {
    "pycharm": {
     "name": "#%%\n"
    }
   },
   "outputs": [
    {
     "name": "stdout",
     "output_type": "stream",
     "text": [
      "batches #0 identical: True\n",
      "batches #1 identical: True\n",
      "batches #2 identical: True\n",
      "batches #3 identical: True\n"
     ]
    }
   ],
   "source": [
    "# Check if manual dataloader equals automatic creation of dataloader\n",
    "for idx, (dataloader_sample, handcraft_sample) in enumerate(zip(data, handcraft)):\n",
    "    print(f'batches #{idx} identical: {torch.allclose(dataloader_sample, handcraft_sample)}')"
   ]
  }
 ],
 "metadata": {
  "kernelspec": {
   "display_name": "Python 3",
   "language": "python",
   "name": "python3"
  },
  "language_info": {
   "codemirror_mode": {
    "name": "ipython",
    "version": 3
   },
   "file_extension": ".py",
   "mimetype": "text/x-python",
   "name": "python",
   "nbconvert_exporter": "python",
   "pygments_lexer": "ipython3",
   "version": "3.6.15"
  }
 },
 "nbformat": 4,
 "nbformat_minor": 1
}
