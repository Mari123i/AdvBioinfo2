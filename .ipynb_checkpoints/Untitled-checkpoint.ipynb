{
 "cells": [
  {
   "cell_type": "code",
   "execution_count": 1,
   "id": "d19de1b1",
   "metadata": {},
   "outputs": [
    {
     "name": "stdout",
     "output_type": "stream",
     "text": [
      "hi\n"
     ]
    }
   ],
   "source": [
    "print(\"hi\")"
   ]
  },
  {
   "cell_type": "code",
   "execution_count": 13,
   "id": "dfe83a0e",
   "metadata": {},
   "outputs": [],
   "source": [
    "def gen(alphabet):\n",
    "    while(True):\n",
    "        for a in alphabet:\n",
    "            yield a\n"
   ]
  },
  {
   "cell_type": "code",
   "execution_count": 15,
   "id": "96c841b7",
   "metadata": {},
   "outputs": [
    {
     "name": "stdout",
     "output_type": "stream",
     "text": [
      "A\n",
      "B\n",
      "C\n",
      "D\n",
      "A\n",
      "B\n",
      "C\n"
     ]
    }
   ],
   "source": [
    "d = gen(\"ABCD\")\n",
    "print(next(d))\n",
    "print(next(d))\n",
    "print(next(d))\n",
    "print(next(d))\n",
    "print(next(d))\n",
    "print(next(d))\n",
    "print(next(d))"
   ]
  },
  {
   "cell_type": "code",
   "execution_count": null,
   "id": "47af1bab",
   "metadata": {},
   "outputs": [],
   "source": [
    "def permute(alphabet,k):\n",
    "    generate=[]\n",
    "    for i in range(k):\n",
    "        generate.append(gen(alphabet))\n",
    "    tmp=\"\"\n",
    "    for i in generate:\n",
    "        tmp+=next(i)\n",
    "        "
   ]
  }
 ],
 "metadata": {
  "kernelspec": {
   "display_name": "Python 3 (ipykernel)",
   "language": "python",
   "name": "python3"
  },
  "language_info": {
   "codemirror_mode": {
    "name": "ipython",
    "version": 3
   },
   "file_extension": ".py",
   "mimetype": "text/x-python",
   "name": "python",
   "nbconvert_exporter": "python",
   "pygments_lexer": "ipython3",
   "version": "3.9.7"
  }
 },
 "nbformat": 4,
 "nbformat_minor": 5
}
