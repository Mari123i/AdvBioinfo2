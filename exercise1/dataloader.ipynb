{
 "cells": [
  {
   "cell_type": "code",
   "execution_count": 1,
   "metadata": {},
   "outputs": [
    {
     "name": "stdout",
     "output_type": "stream",
     "text": [
      "Requirement already satisfied: torch in c:\\users\\49176\\pycharmprojects\\pythonproject\\venv\\lib\\site-packages (1.11.0)\n",
      "Requirement already satisfied: typing-extensions in c:\\users\\49176\\pycharmprojects\\pythonproject\\venv\\lib\\site-packages (from torch) (4.2.0)\n"
     ]
    },
    {
     "name": "stderr",
     "output_type": "stream",
     "text": [
      "WARNING: You are using pip version 21.1.2; however, version 22.0.4 is available.\n",
      "You should consider upgrading via the 'C:\\Users\\49176\\PycharmProjects\\pythonProject\\venv\\Scripts\\python.exe -m pip install --upgrade pip' command.\n"
     ]
    }
   ],
   "source": [
    "!pip install torch"
   ]
  },
  {
   "cell_type": "code",
   "execution_count": 1,
   "metadata": {
    "pycharm": {
     "name": "#%%\n"
    }
   },
   "outputs": [],
   "source": [
    "import h5py\n",
    "import torch\n",
    "import random\n",
    "from pathlib import Path\n",
    "from typing import List\n",
    "from torch.utils.data import DataLoader, Dataset"
   ]
  },
  {
   "cell_type": "code",
   "execution_count": 2,
   "metadata": {
    "pycharm": {
     "name": "#%%\n"
    }
   },
   "outputs": [],
   "source": [
    "# Generate some random data\n",
    "random_tensors = {f'{i}': torch.rand((random.randint(10, 30), 10)) for i in range(20)}\n",
    "\n",
    "# Save those data to some preferred file format\n",
    "with h5py.File('random.h5', 'w') as hf:\n",
    "    for idx, random_ten in random_tensors.items():\n",
    "            hf.create_dataset(idx, data=random_ten.detach().numpy())"
   ]
  },
  {
   "cell_type": "code",
   "execution_count": null,
   "metadata": {
    "pycharm": {
     "name": "#%%\n"
    }
   },
   "outputs": [],
   "source": [
    "# Showing content of an h5 file\n",
    "import nexusformat.nexus as nx\n",
    "\n",
    "f = nx.nxload('random.h5')\n",
    "print(f.tree)\n",
    "f.close()\n",
    "# random.h5 contains tensors of shape Nx10 where N is variable"
   ]
  },
  {
   "cell_type": "code",
   "execution_count": null,
   "metadata": {
    "pycharm": {
     "name": "#%%\n"
    }
   },
   "outputs": [],
   "source": [
    "# Define a dataset tailored to the data that should be used\n",
    "class FancyDataset(Dataset):\n",
    "    # Dataset ... map-style dataset\n",
    "    def __init__(self, h5_path: Path):\n",
    "        self.data = h5py.File(h5_path, 'r')\n",
    "        # use as \"index map\"\n",
    "        self.ids_list = list(self.data.keys())\n",
    "\n",
    "        # some additional stuff\n",
    "        self.softmax = torch.nn.Softmax(dim=-1)\n",
    "\n",
    "    # return the number of elements in the dataset\n",
    "    def __len__(self):\n",
    "        return len(self.ids_list)\n",
    "\n",
    "    # return item at specific index\n",
    "    def __getitem__(self, idx: int):\n",
    "        identifier = self.ids_list[idx]\n",
    "        idx_element = torch.from_numpy(self.data[identifier][:, :])\n",
    "        return self.fancy_func(idx_element)\n",
    "\n",
    "    # some function that does something\n",
    "    def fancy_func(self, input: torch.Tensor):\n",
    "        return self.softmax(input).mean(dim=0)\n",
    "\n",
    "# Other types:\n",
    "#   IterableDataset, TensorDataset, ConcatDataset, ..."
   ]
  },
  {
   "cell_type": "code",
   "execution_count": null,
   "metadata": {
    "pycharm": {
     "name": "#%%\n"
    }
   },
   "outputs": [],
   "source": [
    "# Wrap FancyDataset around the data\n",
    "fancy = FancyDataset(Path('random.h5'))\n",
    "fancy"
   ]
  },
  {
   "cell_type": "code",
   "execution_count": null,
   "metadata": {
    "pycharm": {
     "name": "#%%\n"
    }
   },
   "outputs": [],
   "source": [
    "# Defines some collate function that is useful\n",
    "def collate(data: List[torch.Tensor]):\n",
    "    return torch.stack(data, dim=0)\n",
    "\n",
    "# In this case, the default_collate function is also able to do this"
   ]
  },
  {
   "cell_type": "code",
   "execution_count": null,
   "metadata": {
    "pycharm": {
     "name": "#%%\n"
    }
   },
   "outputs": [],
   "source": [
    "# Create dataloader\n",
    "print(torch.manual_seed(42))\n",
    "dataloader = DataLoader(fancy, batch_size=5, shuffle=True, collate_fn=collate)\n",
    "# dataloader = DataLoader(fancy, batch_size=5, shuffle=True)\n",
    "\n",
    "# DataLoader with default Sampler = index sampler with integral indices\n",
    "# Custom Samplers = possible to use non-integral indices/keys\n",
    "dataloader"
   ]
  },
  {
   "cell_type": "code",
   "execution_count": null,
   "metadata": {
    "pycharm": {
     "name": "#%%\n"
    }
   },
   "outputs": [],
   "source": [
    "# Use actual dataloader\n",
    "data = [sample for sample in dataloader]\n",
    "data"
   ]
  },
  {
   "cell_type": "code",
   "execution_count": null,
   "metadata": {
    "pycharm": {
     "name": "#%%\n"
    }
   },
   "outputs": [],
   "source": [
    "# Recreate output of actual dataloader with manual use of collate and batch forming\n",
    "# does only apply for the first full iteration of the dataloader data\n",
    "indices = [[8, 14, 17, 19, 1], [15, 18, 9, 3, 11], [4, 0, 10, 7, 13], [16, 12, 6, 2, 5]]\n",
    "\n",
    "# Helper functions\n",
    "# get items of one batch from dataset Fancy\n",
    "batch_fancy = lambda batch: list(map(lambda x: fancy[x], batch))\n",
    "# get items of multiple batches from dataset Fancy\n",
    "fancy_indices = lambda ind: list(map(lambda single_batch: batch_fancy(single_batch), ind))\n",
    "# use collate function on multiple batches\n",
    "collate_fancy = lambda fan_list: list(map(lambda fancy_batches: collate(fancy_batches), fan_list))\n",
    "\n",
    "handcraft = collate_fancy(fancy_indices(indices))\n",
    "handcraft"
   ]
  },
  {
   "cell_type": "code",
   "execution_count": null,
   "metadata": {
    "pycharm": {
     "name": "#%%\n"
    }
   },
   "outputs": [],
   "source": [
    "# Check if manual dataloader equals automatic creation of dataloader\n",
    "for idx, (dataloader_sample, handcraft_sample) in enumerate(zip(data, handcraft)):\n",
    "    print(f'batches #{idx} identical: {torch.allclose(dataloader_sample, handcraft_sample)}')"
   ]
  }
 ],
 "metadata": {
  "kernelspec": {
   "name": "pycharm-c78848e3",
   "language": "python",
   "display_name": "PyCharm (exercise1)"
  },
  "language_info": {
   "codemirror_mode": {
    "name": "ipython",
    "version": 3
   },
   "file_extension": ".py",
   "mimetype": "text/x-python",
   "name": "python",
   "nbconvert_exporter": "python",
   "pygments_lexer": "ipython3",
   "version": "3.6.15"
  }
 },
 "nbformat": 4,
 "nbformat_minor": 1
}