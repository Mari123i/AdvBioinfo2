{
 "cells": [
  {
   "cell_type": "code",
   "execution_count": 4,
   "id": "d19de1b1",
   "metadata": {},
   "outputs": [
    {
     "ename": "ModuleNotFoundError",
     "evalue": "No module named 'torch'",
     "output_type": "error",
     "traceback": [
      "\u001b[1;31m---------------------------------------------------------------------------\u001b[0m",
      "\u001b[1;31mModuleNotFoundError\u001b[0m                       Traceback (most recent call last)",
      "\u001b[1;32m<ipython-input-4-eb42ca6e4af3>\u001b[0m in \u001b[0;36m<module>\u001b[1;34m\u001b[0m\n\u001b[1;32m----> 1\u001b[1;33m \u001b[1;32mimport\u001b[0m \u001b[0mtorch\u001b[0m\u001b[1;33m\u001b[0m\u001b[1;33m\u001b[0m\u001b[0m\n\u001b[0m",
      "\u001b[1;31mModuleNotFoundError\u001b[0m: No module named 'torch'"
     ]
    }
   ],
   "source": [
    "import torch"
   ]
  },
  {
   "cell_type": "code",
   "execution_count": 5,
   "id": "dfe83a0e",
   "metadata": {},
   "outputs": [],
   "source": [
    "def gen(alphabet):\n",
    "    while(True):\n",
    "        for a in alphabet:\n",
    "            yield a\n",
    "        yield \"$\"\n"
   ]
  },
  {
   "cell_type": "code",
   "execution_count": 3,
   "id": "96c841b7",
   "metadata": {},
   "outputs": [
    {
     "name": "stdout",
     "output_type": "stream",
     "text": [
      "A\n",
      "B\n",
      "C\n",
      "D\n",
      "$\n",
      "A\n",
      "B\n"
     ]
    }
   ],
   "source": [
    "d = gen(\"ABCD\")\n",
    "print(next(d))\n",
    "print(next(d))\n",
    "print(next(d))\n",
    "print(next(d))\n",
    "print(next(d))\n",
    "print(next(d))\n",
    "print(next(d))"
   ]
  },
  {
   "cell_type": "code",
   "execution_count": 20,
   "id": "47af1bab",
   "metadata": {},
   "outputs": [
    {
     "name": "stdout",
     "output_type": "stream",
     "text": [
      "['LLL', 'LLM', 'LML', 'LMM', 'MLL', 'MLM', 'MML', 'MMM']\n"
     ]
    }
   ],
   "source": [
    "def permute(alphabet,k):\n",
    "    alphabet = alphabet[: : -1]\n",
    "    generate=[]\n",
    "    pointer = k-1\n",
    "    tmp=[]\n",
    "    kmer=[]\n",
    "    #initialize\n",
    "    for i in range(k):\n",
    "        generator = gen(alphabet)\n",
    "        generate.append(generator)\n",
    "        tmp.append(next(generator))\n",
    "    kmer.append(\"\".join(tmp))\n",
    "    got =\"\"\n",
    "    while pointer != -1 or \"$\" not in got:\n",
    "        got = next(generate[pointer])\n",
    "        if \"$\" not in got:\n",
    "            tmp[pointer]=got\n",
    "            kmer.append(\"\".join(tmp))\n",
    "            pointer = k-1\n",
    "        else:\n",
    "            tmp[pointer]=next(generate[pointer])\n",
    "            pointer-=1\n",
    "    return kmer    \n",
    "    \n",
    "print(permute(\"ML\",3))\n",
    "        "
   ]
  },
  {
   "cell_type": "code",
   "execution_count": 5,
   "id": "bea56255",
   "metadata": {},
   "outputs": [],
   "source": [
    "def getAlphabet(seq):\n",
    "    alphabet=[]\n",
    "    for a in seq:\n",
    "        if a in alphabet:\n",
    "            pass\n",
    "        else:\n",
    "            alphabet.append(a)\n",
    "    return \"\".join(alphabet)"
   ]
  },
  {
   "cell_type": "code",
   "execution_count": 6,
   "id": "d0296a4e",
   "metadata": {},
   "outputs": [
    {
     "name": "stdout",
     "output_type": "stream",
     "text": [
      "SBAVDZEKFGUIHN\n"
     ]
    }
   ],
   "source": [
    "print(getAlphabet(\"SBBAVDZEKFDGDUIHDGDFGGGSGHHN\"))"
   ]
  },
  {
   "cell_type": "code",
   "execution_count": null,
   "id": "24d4f966",
   "metadata": {},
   "outputs": [],
   "source": []
  }
 ],
 "metadata": {
  "kernelspec": {
   "display_name": "Python 3",
   "language": "python",
   "name": "python3"
  },
  "language_info": {
   "codemirror_mode": {
    "name": "ipython",
    "version": 3
   },
   "file_extension": ".py",
   "mimetype": "text/x-python",
   "name": "python",
   "nbconvert_exporter": "python",
   "pygments_lexer": "ipython3",
   "version": "3.6.15"
  }
 },
 "nbformat": 4,
 "nbformat_minor": 5
}
